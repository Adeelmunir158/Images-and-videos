{
 "cells": [
  {
   "cell_type": "code",
   "execution_count": 1,
   "metadata": {},
   "outputs": [],
   "source": [
    "import cv2 as cv\n",
    "import numpy as np\n",
    "from cv2 import imshow\n",
    "from cv2 import cvtColor"
   ]
  },
  {
   "cell_type": "code",
   "execution_count": 2,
   "metadata": {},
   "outputs": [],
   "source": [
    "img=cv.imread(\"Resources/Picture.jpg\")"
   ]
  },
  {
   "cell_type": "code",
   "execution_count": 39,
   "metadata": {},
   "outputs": [
    {
     "ename": "TypeError",
     "evalue": "slider() takes 0 positional arguments but 1 was given",
     "output_type": "error",
     "traceback": [
      "\u001b[1;31m---------------------------------------------------------------------------\u001b[0m",
      "\u001b[1;31mTypeError\u001b[0m                                 Traceback (most recent call last)",
      "\u001b[1;31mTypeError\u001b[0m: slider() takes 0 positional arguments but 1 was given"
     ]
    },
    {
     "ename": "TypeError",
     "evalue": "slider() takes 0 positional arguments but 1 was given",
     "output_type": "error",
     "traceback": [
      "\u001b[1;31m---------------------------------------------------------------------------\u001b[0m",
      "\u001b[1;31mTypeError\u001b[0m                                 Traceback (most recent call last)",
      "\u001b[1;31mTypeError\u001b[0m: slider() takes 0 positional arguments but 1 was given"
     ]
    },
    {
     "ename": "TypeError",
     "evalue": "slider() takes 0 positional arguments but 1 was given",
     "output_type": "error",
     "traceback": [
      "\u001b[1;31m---------------------------------------------------------------------------\u001b[0m",
      "\u001b[1;31mTypeError\u001b[0m                                 Traceback (most recent call last)",
      "\u001b[1;31mTypeError\u001b[0m: slider() takes 0 positional arguments but 1 was given"
     ]
    },
    {
     "ename": "error",
     "evalue": "OpenCV(4.5.5) D:\\a\\opencv-python\\opencv-python\\opencv\\modules\\highgui\\src\\window.cpp:862: error: (-215:Assertion failed) trackbar in function 'cv::getTrackbarPos'\n",
     "output_type": "error",
     "traceback": [
      "\u001b[1;31m---------------------------------------------------------------------------\u001b[0m",
      "\u001b[1;31merror\u001b[0m                                     Traceback (most recent call last)",
      "\u001b[1;32m~\\AppData\\Local\\Temp/ipykernel_16104/747866505.py\u001b[0m in \u001b[0;36m<module>\u001b[1;34m\u001b[0m\n\u001b[0;32m     22\u001b[0m     \u001b[0mhue_min\u001b[0m\u001b[1;33m=\u001b[0m\u001b[0mcv\u001b[0m\u001b[1;33m.\u001b[0m\u001b[0mgetTrackbarPos\u001b[0m\u001b[1;33m(\u001b[0m\u001b[1;34m\"Hue Min\"\u001b[0m\u001b[1;33m,\u001b[0m \u001b[1;34m\"Bars\"\u001b[0m\u001b[1;33m)\u001b[0m\u001b[1;33m\u001b[0m\u001b[1;33m\u001b[0m\u001b[0m\n\u001b[0;32m     23\u001b[0m     \u001b[0mhue_max\u001b[0m\u001b[1;33m=\u001b[0m\u001b[0mcv\u001b[0m\u001b[1;33m.\u001b[0m\u001b[0mgetTrackbarPos\u001b[0m\u001b[1;33m(\u001b[0m\u001b[1;34m\"Hue Max\"\u001b[0m\u001b[1;33m,\u001b[0m \u001b[1;34m\"Bars\"\u001b[0m\u001b[1;33m)\u001b[0m\u001b[1;33m\u001b[0m\u001b[1;33m\u001b[0m\u001b[0m\n\u001b[1;32m---> 24\u001b[1;33m     \u001b[0msat_min\u001b[0m\u001b[1;33m=\u001b[0m\u001b[0mcv\u001b[0m\u001b[1;33m.\u001b[0m\u001b[0mgetTrackbarPos\u001b[0m\u001b[1;33m(\u001b[0m\u001b[1;34m\"Sat Min\"\u001b[0m\u001b[1;33m,\u001b[0m \u001b[1;34m\"Bars\"\u001b[0m\u001b[1;33m)\u001b[0m\u001b[1;33m\u001b[0m\u001b[1;33m\u001b[0m\u001b[0m\n\u001b[0m\u001b[0;32m     25\u001b[0m     \u001b[0msat_max\u001b[0m\u001b[1;33m=\u001b[0m\u001b[0mcv\u001b[0m\u001b[1;33m.\u001b[0m\u001b[0mgetTrackbarPos\u001b[0m\u001b[1;33m(\u001b[0m\u001b[1;34m\"Sat Max\"\u001b[0m\u001b[1;33m,\u001b[0m \u001b[1;34m\"Bars\"\u001b[0m\u001b[1;33m)\u001b[0m\u001b[1;33m\u001b[0m\u001b[1;33m\u001b[0m\u001b[0m\n\u001b[0;32m     26\u001b[0m     \u001b[0mval_min\u001b[0m\u001b[1;33m=\u001b[0m\u001b[0mcv\u001b[0m\u001b[1;33m.\u001b[0m\u001b[0mgetTrackbarPos\u001b[0m\u001b[1;33m(\u001b[0m\u001b[1;34m\"Val Min\"\u001b[0m\u001b[1;33m,\u001b[0m \u001b[1;34m\"Bars\"\u001b[0m\u001b[1;33m)\u001b[0m\u001b[1;33m\u001b[0m\u001b[1;33m\u001b[0m\u001b[0m\n",
      "\u001b[1;31merror\u001b[0m: OpenCV(4.5.5) D:\\a\\opencv-python\\opencv-python\\opencv\\modules\\highgui\\src\\window.cpp:862: error: (-215:Assertion failed) trackbar in function 'cv::getTrackbarPos'\n"
     ]
    }
   ],
   "source": [
    "\n",
    "# Sliders\n",
    "\n",
    "def slider():\n",
    "    pass\n",
    "path=\"Resources/Picture.jpg\"\n",
    "\n",
    "cv.namedWindow(\"Bars\")\n",
    "cv.resizeWindow(\"Bars\",900,300)\n",
    "cv.createTrackbar(\"Hue Min\", \"Bars\",0,179,slider)\n",
    "cv.createTrackbar(\"Hue Max\", \"Bars\",179,179,slider)\n",
    "cv.createTrackbar(\"Saturation Min\", \"Bars\",0,255,slider)\n",
    "cv.createTrackbar(\"Saturation Maxi\", \"Bars\",255,255,slider)\n",
    "cv.createTrackbar(\"Value Min\", \"Bars\",0,255,slider)\n",
    "cv.createTrackbar(\"Value Max\", \"Bars\",255,255,slider)\n",
    "img=cv.imread(path)\n",
    "hsv_image=cvtColor(img, cv.COLOR_BGR2HSV)\n",
    "hue_min=cv.getTrackbarPos(\"Hue Min\", \"Bars\")\n",
    "\n",
    "while True:\n",
    "    img=cv.imread(path)\n",
    "    hsv_image=cvtColor(img, cv.COLOR_BGR2HSV)\n",
    "    hue_min=cv.getTrackbarPos(\"Hue Min\", \"Bars\")\n",
    "    hue_max=cv.getTrackbarPos(\"Hue Max\", \"Bars\")\n",
    "    sat_min=cv.getTrackbarPos(\"Sat Min\", \"Bars\")\n",
    "    sat_max=cv.getTrackbarPos(\"Sat Max\", \"Bars\")\n",
    "    val_min=cv.getTrackbarPos(\"Val Min\", \"Bars\")\n",
    "    val_max=cv.getTrackbarPos(\"Val Max\", \"Bars\")\n",
    "\n",
    "print(hue_min,hue_max,sat_min,sat_max,val_min, val_max)\n",
    "lower=np.array([hue_min,sat_min,val_min])\n",
    "upper=np.array([hue_max,sat_max,val_max])\n",
    "mask_img=cv.inRange(hsv_image,lower,upper)\n",
    "out_img=cv.bitwise_and(img,img, mask=mask_img)\n",
    "\n",
    "\n",
    "cv.imshow(\"firstimage\",img)\n",
    "cv.imshow(\"HSV_image\",hsv_image)\n",
    "\n",
    "cv.imshow(\"Mask\",mask_img)\n",
    "cv.imshow(\"Final output\",out_img)\n",
    "cv.imshow(\"firstimage\",img)\n",
    "cv.imshow(\"HSV_image\",hsv_image)\n",
    "if cv.waitKey(1) & 0xFF==ord(\"q\"):\n",
    "            break\n",
    "   \n",
    "cv.waitKey(0)\n"
   ]
  },
  {
   "cell_type": "code",
   "execution_count": 40,
   "metadata": {},
   "outputs": [],
   "source": [
    "cv.destroyAllWindows()"
   ]
  }
 ],
 "metadata": {
  "kernelspec": {
   "display_name": "Python 3.9.7 ('base')",
   "language": "python",
   "name": "python3"
  },
  "language_info": {
   "codemirror_mode": {
    "name": "ipython",
    "version": 3
   },
   "file_extension": ".py",
   "mimetype": "text/x-python",
   "name": "python",
   "nbconvert_exporter": "python",
   "pygments_lexer": "ipython3",
   "version": "3.9.7"
  },
  "orig_nbformat": 4,
  "vscode": {
   "interpreter": {
    "hash": "2043299c89c8cd0b4d1a6f5cf4529bd58e6a4e0fe3181a25e0d328c821cdc5c5"
   }
  }
 },
 "nbformat": 4,
 "nbformat_minor": 2
}
