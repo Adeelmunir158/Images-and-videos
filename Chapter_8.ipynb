{
 "cells": [
  {
   "cell_type": "code",
   "execution_count": 1,
   "metadata": {},
   "outputs": [],
   "source": [
    "import cv2 as cv\n",
    "from matplotlib.colors import is_color_like"
   ]
  },
  {
   "cell_type": "markdown",
   "metadata": {},
   "source": [
    "# Saving the Video"
   ]
  },
  {
   "cell_type": "code",
   "execution_count": 2,
   "metadata": {},
   "outputs": [],
   "source": [
    "cap=cv.VideoCapture(\"Resources/video.mp4\")"
   ]
  },
  {
   "cell_type": "code",
   "execution_count": 3,
   "metadata": {},
   "outputs": [],
   "source": [
    "frame_width=int(cap.get(3))\n",
    "frame_height=int(cap.get(4))"
   ]
  },
  {
   "cell_type": "code",
   "execution_count": 10,
   "metadata": {},
   "outputs": [],
   "source": [
    "out=cv.VideoWriter(\"Resources/out.mp4\", cv.VideoWriter_fourcc(\"M\",\"J\",\"P\",\"G\"),10,(frame_width,frame_height), isColor=False)"
   ]
  },
  {
   "cell_type": "code",
   "execution_count": 11,
   "metadata": {},
   "outputs": [],
   "source": [
    "while (True):\n",
    "            (ret,frame)=cap.read()\n",
    "grayframe=cv.cvtColor(frame, cv.COLOR_BGR2GRAY)\n",
    "if ret==True:\n",
    "\n",
    "    out.write(grayframe)\n",
    "    cv.imshow(\"Video\", grayframe)\n",
    "if cv.waitKey(1) & 0xFF==ord(\"q\"):\n",
    "   break\n",
    "else:\n",
    "     break\n",
    "cap.release()\n",
    "out.release()"
   ]
  }
 ],
 "metadata": {
  "kernelspec": {
   "display_name": "Python 3.9.7 ('base')",
   "language": "python",
   "name": "python3"
  },
  "language_info": {
   "codemirror_mode": {
    "name": "ipython",
    "version": 3
   },
   "file_extension": ".py",
   "mimetype": "text/x-python",
   "name": "python",
   "nbconvert_exporter": "python",
   "pygments_lexer": "ipython3",
   "version": "3.9.7"
  },
  "orig_nbformat": 4,
  "vscode": {
   "interpreter": {
    "hash": "2043299c89c8cd0b4d1a6f5cf4529bd58e6a4e0fe3181a25e0d328c821cdc5c5"
   }
  }
 },
 "nbformat": 4,
 "nbformat_minor": 2
}
